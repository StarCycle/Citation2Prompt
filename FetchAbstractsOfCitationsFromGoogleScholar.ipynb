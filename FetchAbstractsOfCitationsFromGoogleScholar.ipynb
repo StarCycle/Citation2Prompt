{
  "nbformat": 4,
  "nbformat_minor": 0,
  "metadata": {
    "colab": {
      "provenance": [],
      "authorship_tag": "ABX9TyPeASVHwzdC7ja3YUfJ82SX",
      "include_colab_link": true
    },
    "kernelspec": {
      "name": "python3",
      "display_name": "Python 3"
    },
    "language_info": {
      "name": "python"
    }
  },
  "cells": [
    {
      "cell_type": "markdown",
      "metadata": {
        "id": "view-in-github",
        "colab_type": "text"
      },
      "source": [
        "<a href=\"https://colab.research.google.com/github/StarCycle/CitationInfo2Txt/blob/main/FetchAbstractsOfCitationsFromGoogleScholar.ipynb\" target=\"_parent\"><img src=\"https://colab.research.google.com/assets/colab-badge.svg\" alt=\"Open In Colab\"/></a>"
      ]
    },
    {
      "cell_type": "markdown",
      "source": [
        "# 👋 Hey, Let's understand a research field in 5 minutes! 🌟\n",
        "\n",
        "*   This notebook automatically fetches citation information of a specific paper from google scholar.\n",
        "*   If a citation is availble on arxiv, its full abstract will be extracted.\n",
        "*   The information will be saved in a text file with a prompt to let an LLM to summarize the citations.\n",
        "*   Please run it on Google Colab to get fast access to Google Scholar."
      ],
      "metadata": {
        "id": "c0q_-ET2LT9r"
      }
    },
    {
      "cell_type": "markdown",
      "source": [
        "# 💡Step 1: Install Dependancies"
      ],
      "metadata": {
        "id": "uHuTadDDOnJU"
      }
    },
    {
      "cell_type": "code",
      "source": [
        "!pip install tqdm\n",
        "!pip install scholarly"
      ],
      "metadata": {
        "id": "3MmKxQqo5e4e"
      },
      "execution_count": null,
      "outputs": []
    },
    {
      "cell_type": "markdown",
      "source": [
        "# 📚 Step 2: Find a famous paper in this field on Google scholar and get its **citedby_id**"
      ],
      "metadata": {
        "id": "csTBxNXrO35x"
      }
    },
    {
      "cell_type": "markdown",
      "source": [
        "How to acquire the **citedby_id**?\n",
        "\n",
        "1. You can first search a paper on Google Scholar by the title, like:\n",
        "\n",
        "<div align=center>\n",
        "\t<img width = '500' height ='150' src = \"https://github.com/user-attachments/assets/946af137-110b-474d-87fa-0c59d7fcb4e7\"/></div>\n",
        "\n",
        "2. Then please click the **\"cited by xxxx\"** page, like:\n",
        "\n",
        "<div align=center>\n",
        "\t<img width = '500' height ='90' src = \"https://github.com/user-attachments/assets/4d38607d-b3c7-4701-be84-463284834471\"/></div>\n",
        "\n",
        "3. Now you will see the **citedby_id** in the url of the web page.\n",
        "\n",
        "<div align=center>\n",
        "\t<img width = '500' height ='50' src = \"https://github.com/user-attachments/assets/986e09ec-555f-4cae-b03a-cc93d3a7d2a1\"/></div>"
      ],
      "metadata": {
        "id": "tSIkORNyPRUL"
      }
    },
    {
      "cell_type": "markdown",
      "source": [
        "# 💪 Step 3: Set the **citedby_id** below and generate the prompt file"
      ],
      "metadata": {
        "id": "hxGghk6yS-LV"
      }
    },
    {
      "cell_type": "markdown",
      "source": [
        "Note:\n",
        "\n",
        "* You can only access a limited number of citations in a single search (perhaps under 120), other wise Google will block your IP address.\n",
        "* **No worries!** You are using Google colab! If Google blocks you, just restart the kernal of this notebook!"
      ],
      "metadata": {
        "id": "rHYxWgcbTaZq"
      }
    },
    {
      "cell_type": "code",
      "source": [
        "# Setting\n",
        "output_file = \"result.txt\"\n",
        "max_citations = 10 # should be smaller than 120, otherwise google scholar will block visiting\n",
        "citedby_id = 2960712678066186980"
      ],
      "metadata": {
        "id": "4Y4TEo0TKhpD"
      },
      "execution_count": null,
      "outputs": []
    },
    {
      "cell_type": "code",
      "source": [
        "import re\n",
        "import requests\n",
        "import xml.etree.ElementTree as ET\n",
        "from scholarly import scholarly\n",
        "from tqdm import tqdm\n",
        "\n",
        "prompt_description = (\n",
        "    \"Below are detailed citation records for a given article. Each entry includes the title, authors, \"\n",
        "    \"publication year, number of citations, the link to the article, and its abstract if available. \"\n",
        "    \"For articles hosted on arXiv, their abstract is retrieved directly from the arXiv API. Please \"\n",
        "    \"summarize these entries as thoroughly as possible, highlighting key research contributions, \"\n",
        "    \"novelties, and relevance to the cited work.\"\n",
        ")\n",
        "\n",
        "entries = [prompt_description]\n",
        "query = scholarly.search_citedby(str(citedby_id))\n",
        "\n",
        "for idx, result in enumerate(tqdm(query, desc=\"Processing citations\", unit=\" citation\"), start=1):\n",
        "    if idx > max_citations:\n",
        "        break\n",
        "\n",
        "    try:\n",
        "        title = result['bib']['title']\n",
        "        authors = \", \".join(result['bib']['author'])\n",
        "        pub_year = result['bib']['pub_year']\n",
        "        num_citations = result.get('num_citations', 0)\n",
        "        pub_url = result.get('pub_url', 'No link available')\n",
        "\n",
        "        abstract = \"Abstract not available.\"\n",
        "        if 'arxiv.org' in pub_url:\n",
        "            arxiv_id_match = re.search(r'arxiv\\.org/abs/([0-9]+\\.[0-9]+)', pub_url)\n",
        "            if arxiv_id_match:\n",
        "                arxiv_id = arxiv_id_match.group(1)\n",
        "                url = f\"http://export.arxiv.org/api/query?id_list={arxiv_id}\"\n",
        "                response = requests.get(url)\n",
        "                if response.status_code == 200:\n",
        "                    namespace = {'default': 'http://www.w3.org/2005/Atom'}\n",
        "                    root = ET.fromstring(response.text)\n",
        "                    summary = root.find('.//default:summary', namespace)\n",
        "                    if summary is not None:\n",
        "                        abstract = summary.text.strip()\n",
        "\n",
        "        entry = (\n",
        "            f\"### Citation {idx} ###\\n\"\n",
        "            f\"Title: {title}\\n\"\n",
        "            f\"Authors: {authors}\\n\"\n",
        "            f\"Publication Year: {pub_year}\\n\"\n",
        "            f\"Number of Citations: {num_citations}\\n\"\n",
        "            f\"Link: {pub_url}\\n\"\n",
        "            f\"Abstract: {abstract}\\n\"\n",
        "        )\n",
        "        entries.append(entry)\n",
        "\n",
        "    except Exception as e:\n",
        "        print(f\"Error processing citation {idx}: {e}\")\n",
        "\n",
        "with open(output_file, \"w\", encoding=\"utf-8\") as file:\n",
        "    file.write(\"\\n\\n\".join(entries))\n",
        "\n",
        "print(f\"Prompt has been saved to {output_file}\")"
      ],
      "metadata": {
        "id": "mORwEReoJUkc"
      },
      "execution_count": null,
      "outputs": []
    },
    {
      "cell_type": "markdown",
      "source": [
        "# 🎉 Step 4: Ask any LLM (ChatGPT, Claude, ChatGLM...) with the generated prompt file.\n",
        "# Happy researching! 🎉😊"
      ],
      "metadata": {
        "id": "HWHa4C8iUTGX"
      }
    }
  ]
}